{
 "cells": [
  {
   "cell_type": "markdown",
   "metadata": {},
   "source": [
    "# Data cleaning"
   ]
  },
  {
   "cell_type": "markdown",
   "metadata": {},
   "source": [
    "step 1: install pandas"
   ]
  },
  {
   "cell_type": "code",
   "execution_count": 1,
   "metadata": {},
   "outputs": [
    {
     "name": "stdout",
     "output_type": "stream",
     "text": [
      "Requirement already satisfied: pandas in c:\\users\\admin\\anaconda3\\lib\\site-packages (1.4.4)\n",
      "Requirement already satisfied: python-dateutil>=2.8.1 in c:\\users\\admin\\anaconda3\\lib\\site-packages (from pandas) (2.8.2)\n",
      "Requirement already satisfied: pytz>=2020.1 in c:\\users\\admin\\anaconda3\\lib\\site-packages (from pandas) (2022.1)\n",
      "Requirement already satisfied: numpy>=1.18.5 in c:\\users\\admin\\anaconda3\\lib\\site-packages (from pandas) (1.21.5)\n",
      "Requirement already satisfied: six>=1.5 in c:\\users\\admin\\anaconda3\\lib\\site-packages (from python-dateutil>=2.8.1->pandas) (1.16.0)\n",
      "Note: you may need to restart the kernel to use updated packages.\n"
     ]
    }
   ],
   "source": [
    "pip install pandas"
   ]
  },
  {
   "cell_type": "markdown",
   "metadata": {},
   "source": [
    "step 2: read dataframe"
   ]
  },
  {
   "cell_type": "code",
   "execution_count": 34,
   "metadata": {},
   "outputs": [],
   "source": [
    "import pandas as pd\n",
    "df=pd.read_csv('wikileaks_parsed.csv')\n"
   ]
  },
  {
   "cell_type": "markdown",
   "metadata": {},
   "source": [
    "first 5 data"
   ]
  },
  {
   "cell_type": "code",
   "execution_count": 51,
   "metadata": {},
   "outputs": [
    {
     "data": {
      "text/html": [
       "<div>\n",
       "<style scoped>\n",
       "    .dataframe tbody tr th:only-of-type {\n",
       "        vertical-align: middle;\n",
       "    }\n",
       "\n",
       "    .dataframe tbody tr th {\n",
       "        vertical-align: top;\n",
       "    }\n",
       "\n",
       "    .dataframe thead th {\n",
       "        text-align: right;\n",
       "    }\n",
       "</style>\n",
       "<table border=\"1\" class=\"dataframe\">\n",
       "  <thead>\n",
       "    <tr style=\"text-align: right;\">\n",
       "      <th></th>\n",
       "      <th>PDF Path</th>\n",
       "      <th>Text</th>\n",
       "    </tr>\n",
       "  </thead>\n",
       "  <tbody>\n",
       "    <tr>\n",
       "      <th>0</th>\n",
       "      <td>1.pdf</td>\n",
       "      <td>Pristina Airport – Possible administrative irr...</td>\n",
       "    </tr>\n",
       "    <tr>\n",
       "      <th>1</th>\n",
       "      <td>1.pdf</td>\n",
       "      <td>Investigative details\\n\\nIn his/her interviews...</td>\n",
       "    </tr>\n",
       "    <tr>\n",
       "      <th>2</th>\n",
       "      <td>10.pdf</td>\n",
       "      <td>\"An interoffice memorandum providing an “outst...</td>\n",
       "    </tr>\n",
       "    <tr>\n",
       "      <th>3</th>\n",
       "      <td>10.pdf</td>\n",
       "      <td>\"Allegation 2 &amp; 3:\\n\\n(Specifically, three of ...</td>\n",
       "    </tr>\n",
       "    <tr>\n",
       "      <th>4</th>\n",
       "      <td>10.pdf</td>\n",
       "      <td>\"When asked about this in interview, the Divis...</td>\n",
       "    </tr>\n",
       "  </tbody>\n",
       "</table>\n",
       "</div>"
      ],
      "text/plain": [
       "  PDF Path                                               Text\n",
       "0    1.pdf  Pristina Airport – Possible administrative irr...\n",
       "1    1.pdf  Investigative details\\n\\nIn his/her interviews...\n",
       "2   10.pdf  \"An interoffice memorandum providing an “outst...\n",
       "3   10.pdf  \"Allegation 2 & 3:\\n\\n(Specifically, three of ...\n",
       "4   10.pdf  \"When asked about this in interview, the Divis..."
      ]
     },
     "execution_count": 51,
     "metadata": {},
     "output_type": "execute_result"
    }
   ],
   "source": [
    "df.head()"
   ]
  },
  {
   "cell_type": "markdown",
   "metadata": {},
   "source": [
    "get Text column"
   ]
  },
  {
   "cell_type": "code",
   "execution_count": 53,
   "metadata": {},
   "outputs": [],
   "source": [
    "df = df.drop('PDF Path', axis=1)"
   ]
  },
  {
   "cell_type": "code",
   "execution_count": 54,
   "metadata": {},
   "outputs": [
    {
     "data": {
      "text/html": [
       "<div>\n",
       "<style scoped>\n",
       "    .dataframe tbody tr th:only-of-type {\n",
       "        vertical-align: middle;\n",
       "    }\n",
       "\n",
       "    .dataframe tbody tr th {\n",
       "        vertical-align: top;\n",
       "    }\n",
       "\n",
       "    .dataframe thead th {\n",
       "        text-align: right;\n",
       "    }\n",
       "</style>\n",
       "<table border=\"1\" class=\"dataframe\">\n",
       "  <thead>\n",
       "    <tr style=\"text-align: right;\">\n",
       "      <th></th>\n",
       "      <th>Text</th>\n",
       "    </tr>\n",
       "  </thead>\n",
       "  <tbody>\n",
       "    <tr>\n",
       "      <th>0</th>\n",
       "      <td>Pristina Airport – Possible administrative irr...</td>\n",
       "    </tr>\n",
       "    <tr>\n",
       "      <th>1</th>\n",
       "      <td>Investigative details\\n\\nIn his/her interviews...</td>\n",
       "    </tr>\n",
       "    <tr>\n",
       "      <th>2</th>\n",
       "      <td>\"An interoffice memorandum providing an “outst...</td>\n",
       "    </tr>\n",
       "    <tr>\n",
       "      <th>3</th>\n",
       "      <td>\"Allegation 2 &amp; 3:\\n\\n(Specifically, three of ...</td>\n",
       "    </tr>\n",
       "    <tr>\n",
       "      <th>4</th>\n",
       "      <td>\"When asked about this in interview, the Divis...</td>\n",
       "    </tr>\n",
       "  </tbody>\n",
       "</table>\n",
       "</div>"
      ],
      "text/plain": [
       "                                                Text\n",
       "0  Pristina Airport – Possible administrative irr...\n",
       "1  Investigative details\\n\\nIn his/her interviews...\n",
       "2  \"An interoffice memorandum providing an “outst...\n",
       "3  \"Allegation 2 & 3:\\n\\n(Specifically, three of ...\n",
       "4  \"When asked about this in interview, the Divis..."
      ]
     },
     "execution_count": 54,
     "metadata": {},
     "output_type": "execute_result"
    }
   ],
   "source": [
    "df.head()"
   ]
  },
  {
   "cell_type": "code",
   "execution_count": 55,
   "metadata": {},
   "outputs": [
    {
     "data": {
      "text/plain": [
       "(143, 1)"
      ]
     },
     "execution_count": 55,
     "metadata": {},
     "output_type": "execute_result"
    }
   ],
   "source": [
    "df.shape"
   ]
  },
  {
   "cell_type": "code",
   "execution_count": 56,
   "metadata": {},
   "outputs": [
    {
     "data": {
      "text/html": [
       "<div>\n",
       "<style scoped>\n",
       "    .dataframe tbody tr th:only-of-type {\n",
       "        vertical-align: middle;\n",
       "    }\n",
       "\n",
       "    .dataframe tbody tr th {\n",
       "        vertical-align: top;\n",
       "    }\n",
       "\n",
       "    .dataframe thead th {\n",
       "        text-align: right;\n",
       "    }\n",
       "</style>\n",
       "<table border=\"1\" class=\"dataframe\">\n",
       "  <thead>\n",
       "    <tr style=\"text-align: right;\">\n",
       "      <th></th>\n",
       "      <th>Text</th>\n",
       "    </tr>\n",
       "  </thead>\n",
       "  <tbody>\n",
       "    <tr>\n",
       "      <th>0</th>\n",
       "      <td>Pristina Airport – Possible administrative irr...</td>\n",
       "    </tr>\n",
       "    <tr>\n",
       "      <th>1</th>\n",
       "      <td>Investigative details\\n\\nIn his/her interviews...</td>\n",
       "    </tr>\n",
       "    <tr>\n",
       "      <th>2</th>\n",
       "      <td>\"An interoffice memorandum providing an “outst...</td>\n",
       "    </tr>\n",
       "    <tr>\n",
       "      <th>3</th>\n",
       "      <td>\"Allegation 2 &amp; 3:\\n\\n(Specifically, three of ...</td>\n",
       "    </tr>\n",
       "    <tr>\n",
       "      <th>4</th>\n",
       "      <td>\"When asked about this in interview, the Divis...</td>\n",
       "    </tr>\n",
       "    <tr>\n",
       "      <th>...</th>\n",
       "      <td>...</td>\n",
       "    </tr>\n",
       "    <tr>\n",
       "      <th>138</th>\n",
       "      <td>\"Description\\n\\nTop Secret US National Securit...</td>\n",
       "    </tr>\n",
       "    <tr>\n",
       "      <th>139</th>\n",
       "      <td>\"INTRODUCTION\\n\\nThis case arises out of an au...</td>\n",
       "    </tr>\n",
       "    <tr>\n",
       "      <th>140</th>\n",
       "      <td>\"BACKGROUND INFORMATION\\n\\nPristina Internatio...</td>\n",
       "    </tr>\n",
       "    <tr>\n",
       "      <th>141</th>\n",
       "      <td>\"BACKGROUND INFORMATION\\n\\nPristina Internatio...</td>\n",
       "    </tr>\n",
       "    <tr>\n",
       "      <th>142</th>\n",
       "      <td>\"Description\\n\\nInterception of French Ambassa...</td>\n",
       "    </tr>\n",
       "  </tbody>\n",
       "</table>\n",
       "<p>143 rows × 1 columns</p>\n",
       "</div>"
      ],
      "text/plain": [
       "                                                  Text\n",
       "0    Pristina Airport – Possible administrative irr...\n",
       "1    Investigative details\\n\\nIn his/her interviews...\n",
       "2    \"An interoffice memorandum providing an “outst...\n",
       "3    \"Allegation 2 & 3:\\n\\n(Specifically, three of ...\n",
       "4    \"When asked about this in interview, the Divis...\n",
       "..                                                 ...\n",
       "138  \"Description\\n\\nTop Secret US National Securit...\n",
       "139  \"INTRODUCTION\\n\\nThis case arises out of an au...\n",
       "140  \"BACKGROUND INFORMATION\\n\\nPristina Internatio...\n",
       "141  \"BACKGROUND INFORMATION\\n\\nPristina Internatio...\n",
       "142  \"Description\\n\\nInterception of French Ambassa...\n",
       "\n",
       "[143 rows x 1 columns]"
      ]
     },
     "metadata": {},
     "output_type": "display_data"
    }
   ],
   "source": [
    "display(df)"
   ]
  },
  {
   "cell_type": "markdown",
   "metadata": {},
   "source": [
    "143 rows of text"
   ]
  },
  {
   "cell_type": "markdown",
   "metadata": {},
   "source": [
    "Step 4: check duplicates"
   ]
  },
  {
   "cell_type": "code",
   "execution_count": 58,
   "metadata": {},
   "outputs": [],
   "source": [
    "df=df.drop_duplicates()"
   ]
  },
  {
   "cell_type": "code",
   "execution_count": 59,
   "metadata": {},
   "outputs": [
    {
     "data": {
      "text/plain": [
       "(143, 1)"
      ]
     },
     "execution_count": 59,
     "metadata": {},
     "output_type": "execute_result"
    }
   ],
   "source": [
    "df.shape"
   ]
  },
  {
   "cell_type": "code",
   "execution_count": 60,
   "metadata": {},
   "outputs": [
    {
     "data": {
      "text/html": [
       "<div>\n",
       "<style scoped>\n",
       "    .dataframe tbody tr th:only-of-type {\n",
       "        vertical-align: middle;\n",
       "    }\n",
       "\n",
       "    .dataframe tbody tr th {\n",
       "        vertical-align: top;\n",
       "    }\n",
       "\n",
       "    .dataframe thead th {\n",
       "        text-align: right;\n",
       "    }\n",
       "</style>\n",
       "<table border=\"1\" class=\"dataframe\">\n",
       "  <thead>\n",
       "    <tr style=\"text-align: right;\">\n",
       "      <th></th>\n",
       "      <th>Text</th>\n",
       "    </tr>\n",
       "  </thead>\n",
       "  <tbody>\n",
       "    <tr>\n",
       "      <th>0</th>\n",
       "      <td>Pristina Airport – Possible administrative irr...</td>\n",
       "    </tr>\n",
       "    <tr>\n",
       "      <th>1</th>\n",
       "      <td>Investigative details\\n\\nIn his/her interviews...</td>\n",
       "    </tr>\n",
       "    <tr>\n",
       "      <th>2</th>\n",
       "      <td>\"An interoffice memorandum providing an “outst...</td>\n",
       "    </tr>\n",
       "    <tr>\n",
       "      <th>3</th>\n",
       "      <td>\"Allegation 2 &amp; 3:\\n\\n(Specifically, three of ...</td>\n",
       "    </tr>\n",
       "    <tr>\n",
       "      <th>4</th>\n",
       "      <td>\"When asked about this in interview, the Divis...</td>\n",
       "    </tr>\n",
       "    <tr>\n",
       "      <th>...</th>\n",
       "      <td>...</td>\n",
       "    </tr>\n",
       "    <tr>\n",
       "      <th>138</th>\n",
       "      <td>\"Description\\n\\nTop Secret US National Securit...</td>\n",
       "    </tr>\n",
       "    <tr>\n",
       "      <th>139</th>\n",
       "      <td>\"INTRODUCTION\\n\\nThis case arises out of an au...</td>\n",
       "    </tr>\n",
       "    <tr>\n",
       "      <th>140</th>\n",
       "      <td>\"BACKGROUND INFORMATION\\n\\nPristina Internatio...</td>\n",
       "    </tr>\n",
       "    <tr>\n",
       "      <th>141</th>\n",
       "      <td>\"BACKGROUND INFORMATION\\n\\nPristina Internatio...</td>\n",
       "    </tr>\n",
       "    <tr>\n",
       "      <th>142</th>\n",
       "      <td>\"Description\\n\\nInterception of French Ambassa...</td>\n",
       "    </tr>\n",
       "  </tbody>\n",
       "</table>\n",
       "<p>143 rows × 1 columns</p>\n",
       "</div>"
      ],
      "text/plain": [
       "                                                  Text\n",
       "0    Pristina Airport – Possible administrative irr...\n",
       "1    Investigative details\\n\\nIn his/her interviews...\n",
       "2    \"An interoffice memorandum providing an “outst...\n",
       "3    \"Allegation 2 & 3:\\n\\n(Specifically, three of ...\n",
       "4    \"When asked about this in interview, the Divis...\n",
       "..                                                 ...\n",
       "138  \"Description\\n\\nTop Secret US National Securit...\n",
       "139  \"INTRODUCTION\\n\\nThis case arises out of an au...\n",
       "140  \"BACKGROUND INFORMATION\\n\\nPristina Internatio...\n",
       "141  \"BACKGROUND INFORMATION\\n\\nPristina Internatio...\n",
       "142  \"Description\\n\\nInterception of French Ambassa...\n",
       "\n",
       "[143 rows x 1 columns]"
      ]
     },
     "metadata": {},
     "output_type": "display_data"
    }
   ],
   "source": [
    "display(df)"
   ]
  },
  {
   "cell_type": "markdown",
   "metadata": {},
   "source": [
    "no duplicate in dataset"
   ]
  },
  {
   "cell_type": "markdown",
   "metadata": {},
   "source": [
    "remove similar"
   ]
  },
  {
   "cell_type": "code",
   "execution_count": 62,
   "metadata": {},
   "outputs": [
    {
     "name": "stdout",
     "output_type": "stream",
     "text": [
      "                                                  Text\n",
      "0    Pristina Airport – Possible administrative irr...\n",
      "1    Investigative details\\n\\nIn his/her interviews...\n",
      "2    \"An interoffice memorandum providing an “outst...\n",
      "3    \"Allegation 2 & 3:\\n\\n(Specifically, three of ...\n",
      "4    \"When asked about this in interview, the Divis...\n",
      "..                                                 ...\n",
      "137  \"Sensitive Issues on the Agenda When French, U...\n",
      "138  \"Description\\n\\nTop Secret US National Securit...\n",
      "139  \"INTRODUCTION\\n\\nThis case arises out of an au...\n",
      "140  \"BACKGROUND INFORMATION\\n\\nPristina Internatio...\n",
      "142  \"Description\\n\\nInterception of French Ambassa...\n",
      "\n",
      "[135 rows x 1 columns]\n"
     ]
    }
   ],
   "source": [
    "\n",
    "import textdistance\n",
    "\n",
    "\n",
    "\n",
    "# Calculate similarities between rows\n",
    "# and save corresponding indexes in a new column \"match\"\n",
    "df[\"match\"] = df[\"Text\"].map(\n",
    "    lambda x: [\n",
    "        i\n",
    "        for i, text in enumerate(df[\"Text\"])\n",
    "        if textdistance.jaro_winkler(x, text) >= 0.9\n",
    "    ]\n",
    ")\n",
    "\n",
    "# Iterate to remove similar rows (keeping only the first one)\n",
    "indices = []\n",
    "for i, row in df.iterrows():\n",
    "    indices.append(i)\n",
    "    df = df.drop(\n",
    "        index=[item for item in row[\"match\"] if item not in indices], errors=\"ignore\"\n",
    "    )\n",
    "\n",
    "# Clean up\n",
    "df = df.drop(columns=\"match\")\n",
    "\n",
    "print(df)"
   ]
  },
  {
   "cell_type": "code",
   "execution_count": 63,
   "metadata": {},
   "outputs": [],
   "source": [
    "unique_textdf=df['Text']"
   ]
  },
  {
   "cell_type": "markdown",
   "metadata": {},
   "source": [
    "check null values"
   ]
  },
  {
   "cell_type": "code",
   "execution_count": 67,
   "metadata": {},
   "outputs": [
    {
     "data": {
      "text/plain": [
       "0"
      ]
     },
     "execution_count": 67,
     "metadata": {},
     "output_type": "execute_result"
    }
   ],
   "source": [
    "unique_textdf.isnull().sum()"
   ]
  },
  {
   "cell_type": "markdown",
   "metadata": {},
   "source": [
    "no null"
   ]
  },
  {
   "cell_type": "markdown",
   "metadata": {},
   "source": [
    "remove symbols"
   ]
  },
  {
   "cell_type": "code",
   "execution_count": 68,
   "metadata": {},
   "outputs": [
    {
     "name": "stdout",
     "output_type": "stream",
     "text": [
      "0      Pristina Airport  Possible administrative irre...\n",
      "1      Investigative details\\n\\nIn hisher interviews ...\n",
      "2      An interoffice memorandum providing an outstan...\n",
      "3      Allegation 2  3\\n\\nSpecifically three of the p...\n",
      "4      When asked about this in interview the Divisio...\n",
      "                             ...                        \n",
      "137    Sensitive Issues on the Agenda When French US ...\n",
      "138    Description\\n\\nTop Secret US National Security...\n",
      "139    INTRODUCTION\\n\\nThis case arises out of an aud...\n",
      "140    BACKGROUND INFORMATION\\n\\nPristina Internation...\n",
      "142    Description\\n\\nInterception of French Ambassad...\n",
      "Name: Text, Length: 135, dtype: object\n"
     ]
    }
   ],
   "source": [
    "pattern = r'[^\\w\\s]'\n",
    "updated_texdf= unique_textdf.replace(pattern, '', regex=True)\n",
    "\n",
    "# Print the updated DataFrame\n",
    "print(updated_texdf)"
   ]
  },
  {
   "cell_type": "markdown",
   "metadata": {},
   "source": [
    "remove \\n"
   ]
  },
  {
   "cell_type": "code",
   "execution_count": 69,
   "metadata": {},
   "outputs": [
    {
     "name": "stdout",
     "output_type": "stream",
     "text": [
      "0      Pristina Airport  Possible administrative irre...\n",
      "1      Investigative details  In hisher interviews co...\n",
      "2      An interoffice memorandum providing an outstan...\n",
      "3      Allegation 2  3  Specifically three of the per...\n",
      "4      When asked about this in interview the Divisio...\n",
      "                             ...                        \n",
      "137    Sensitive Issues on the Agenda When French US ...\n",
      "138    Description  Top Secret US National Security A...\n",
      "139    INTRODUCTION  This case arises out of an audit...\n",
      "140    BACKGROUND INFORMATION  Pristina International...\n",
      "142    Description  Interception of French Ambassador...\n",
      "Name: Text, Length: 135, dtype: object\n"
     ]
    }
   ],
   "source": [
    "pattern = r'[^\\w\\s]'\n",
    "updated_texdf= updated_texdf.replace('\\n', ' ', regex=True)\n",
    "\n",
    "# Print the updated DataFrame\n",
    "print(updated_texdf)"
   ]
  },
  {
   "cell_type": "markdown",
   "metadata": {},
   "source": [
    "lower case"
   ]
  },
  {
   "cell_type": "code",
   "execution_count": 70,
   "metadata": {},
   "outputs": [
    {
     "data": {
      "text/plain": [
       "<bound method NDFrame.describe of 0      pristina airport  possible administrative irre...\n",
       "1      investigative details  in hisher interviews co...\n",
       "2      an interoffice memorandum providing an outstan...\n",
       "3      allegation 2  3  specifically three of the per...\n",
       "4      when asked about this in interview the divisio...\n",
       "                             ...                        \n",
       "137    sensitive issues on the agenda when french us ...\n",
       "138    description  top secret us national security a...\n",
       "139    introduction  this case arises out of an audit...\n",
       "140    background information  pristina international...\n",
       "142    description  interception of french ambassador...\n",
       "Name: Text, Length: 135, dtype: object>"
      ]
     },
     "execution_count": 70,
     "metadata": {},
     "output_type": "execute_result"
    }
   ],
   "source": [
    "lower_textdf=  updated_texdf.str.lower()\n",
    "lower_textdf.describe"
   ]
  },
  {
   "cell_type": "markdown",
   "metadata": {},
   "source": [
    "remove number"
   ]
  },
  {
   "cell_type": "code",
   "execution_count": 71,
   "metadata": {},
   "outputs": [
    {
     "name": "stderr",
     "output_type": "stream",
     "text": [
      "C:\\Users\\Admin\\AppData\\Local\\Temp\\ipykernel_15296\\3111803584.py:1: FutureWarning: The default value of regex will change from True to False in a future version.\n",
      "  no_textdf = lower_textdf.str.replace('\\d+', '')\n"
     ]
    },
    {
     "data": {
      "text/plain": [
       "<bound method NDFrame.describe of 0      pristina airport  possible administrative irre...\n",
       "1      investigative details  in hisher interviews co...\n",
       "2      an interoffice memorandum providing an outstan...\n",
       "3      allegation     specifically three of the perso...\n",
       "4      when asked about this in interview the divisio...\n",
       "                             ...                        \n",
       "137    sensitive issues on the agenda when french us ...\n",
       "138    description  top secret us national security a...\n",
       "139    introduction  this case arises out of an audit...\n",
       "140    background information  pristina international...\n",
       "142    description  interception of french ambassador...\n",
       "Name: Text, Length: 135, dtype: object>"
      ]
     },
     "execution_count": 71,
     "metadata": {},
     "output_type": "execute_result"
    }
   ],
   "source": [
    "no_textdf = lower_textdf.str.replace('\\d+', '')\n",
    "no_textdf.describe"
   ]
  },
  {
   "cell_type": "code",
   "execution_count": 75,
   "metadata": {},
   "outputs": [
    {
     "name": "stdout",
     "output_type": "stream",
     "text": [
      "                                                  Text\n",
      "0    pristina airport  possible administrative irre...\n",
      "1    investigative details  in hisher interviews co...\n",
      "2    an interoffice memorandum providing an outstan...\n",
      "3    allegation     specifically three of the perso...\n",
      "4    when asked about this in interview the divisio...\n",
      "..                                                 ...\n",
      "137  sensitive issues on the agenda when french us ...\n",
      "138  description  top secret us national security a...\n",
      "139  introduction  this case arises out of an audit...\n",
      "140  background information  pristina international...\n",
      "142  description  interception of french ambassador...\n",
      "\n",
      "[135 rows x 1 columns]\n"
     ]
    }
   ],
   "source": [
    "# # Using pd.DataFrame()\n",
    "# df1 = pd.DataFrame(no_textdf)\n",
    "\n",
    "# # Display the DataFrame\n",
    "# print(df1)"
   ]
  },
  {
   "cell_type": "markdown",
   "metadata": {},
   "source": [
    "token"
   ]
  },
  {
   "cell_type": "code",
   "execution_count": 87,
   "metadata": {},
   "outputs": [
    {
     "data": {
      "text/plain": [
       "0    [pristina, airport, possible, administrative, ...\n",
       "1    [investigative, details, in, hisher, interview...\n",
       "2    [an, interoffice, memorandum, providing, an, o...\n",
       "3    [allegation, specifically, three, of, the, per...\n",
       "4    [when, asked, about, this, in, interview, the,...\n",
       "Name: Text, dtype: object"
      ]
     },
     "execution_count": 87,
     "metadata": {},
     "output_type": "execute_result"
    }
   ],
   "source": [
    "from nltk.tokenize import word_tokenize\n",
    "\n",
    "tokenizedf = no_textdf.apply(word_tokenize)\n",
    "tokenizedf.head()"
   ]
  },
  {
   "cell_type": "code",
   "execution_count": null,
   "metadata": {},
   "outputs": [],
   "source": []
  }
 ],
 "metadata": {
  "kernelspec": {
   "display_name": "base",
   "language": "python",
   "name": "python3"
  },
  "language_info": {
   "codemirror_mode": {
    "name": "ipython",
    "version": 3
   },
   "file_extension": ".py",
   "mimetype": "text/x-python",
   "name": "python",
   "nbconvert_exporter": "python",
   "pygments_lexer": "ipython3",
   "version": "3.9.13"
  }
 },
 "nbformat": 4,
 "nbformat_minor": 2
}
